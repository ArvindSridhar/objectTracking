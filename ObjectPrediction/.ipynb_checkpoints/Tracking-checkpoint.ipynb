{
 "cells": [
  {
   "cell_type": "code",
   "execution_count": 1,
   "metadata": {},
   "outputs": [
    {
     "name": "stderr",
     "output_type": "stream",
     "text": [
      "/Library/Frameworks/Python.framework/Versions/3.6/lib/python3.6/site-packages/h5py/__init__.py:36: FutureWarning: Conversion of the second argument of issubdtype from `float` to `np.floating` is deprecated. In future, it will be treated as `np.float64 == np.dtype(float).type`.\n",
      "  from ._conv import register_converters as _register_converters\n",
      "Using TensorFlow backend.\n"
     ]
    }
   ],
   "source": [
    "import numpy as np\n",
    "import matplotlib.pyplot as plt\n",
    "import pandas\n",
    "import math\n",
    "from keras.models import Sequential\n",
    "from keras.layers import Dense\n",
    "from keras.layers import LSTM\n",
    "from sklearn.preprocessing import MinMaxScaler\n",
    "from sklearn.metrics import mean_squared_error\n",
    "import random\n",
    "\n",
    "def hashCoords(x, y):\n",
    "    return (y*1000 + x)/(608608)\n",
    "\n",
    "def reverseHash(code):\n",
    "    x = (code*608608)%1000\n",
    "    y = (code*608608)//1000\n",
    "    return (x, y)\n",
    "\n",
    "#hash for 608 by 608 image coordinate: (y*1000 + x)/(608608)"
   ]
  },
  {
   "cell_type": "code",
   "execution_count": 150,
   "metadata": {},
   "outputs": [],
   "source": [
    "def generateCoords(start, end, step):\n",
    "    genX = []\n",
    "    genY = []\n",
    "    for x in range(start, end, step):\n",
    "        genY.append((x+random.randint(-40, 40), (x*0.005*x)+random.randint(-40, 40)))\n",
    "        genX.append(x)\n",
    "    return genX, genY\n",
    "\n",
    "def generateCoords2(start, end, step):\n",
    "    genX = []\n",
    "    genY = []\n",
    "    for x in range(start, end, step):\n",
    "        genY.append((0.6*x+random.randint(-40, 40), (x*0.006*x)+random.randint(-40, 40)))\n",
    "        genX.append(x)\n",
    "    return genX, genY\n",
    "\n",
    "def genSinCoords(start, end, step):\n",
    "    generated = []\n",
    "    genX = []\n",
    "    period = (end-start)/16\n",
    "    for x in range(start, end, step):\n",
    "        generated.append((2*np.sin(period * x)+2))\n",
    "        genX.append(x)\n",
    "    return genX, generated\n",
    "        "
   ]
  },
  {
   "cell_type": "code",
   "execution_count": 151,
   "metadata": {},
   "outputs": [],
   "source": [
    "generated = np.array(genSinCoords(100, 600, 1)[1])\n",
    "generated2 = np.array(generateCoords2(100, 600, 1)[1])\n",
    "\n",
    "generated3 = 1+np.array(genSinCoords(100, 600, 1)[1])\n",
    "generated4 = 1+np.array(generateCoords2(100, 600, 1)[1])\n",
    "genX = np.array(generateCoords(100,600,1)[0])"
   ]
  },
  {
   "cell_type": "code",
   "execution_count": 152,
   "metadata": {},
   "outputs": [
    {
     "data": {
      "text/plain": [
       "[<matplotlib.lines.Line2D at 0x12fa3c358>,\n",
       " <matplotlib.lines.Line2D at 0x12fa3cef0>]"
      ]
     },
     "execution_count": 152,
     "metadata": {},
     "output_type": "execute_result"
    },
    {
     "data": {
      "image/png": "[encoded data removed]",
      "text/plain": [
       "<Figure size 432x288 with 1 Axes>"
      ]
     },
     "metadata": {},
     "output_type": "display_data"
    }
   ],
   "source": [
    "plt.plot(genX, generated, '-b')\n",
    "plt.plot(genX, generated2, '-r')\n",
    "plt.plot(genX, generated3, color='lightblue')\n",
    "plt.plot(genX, generated4, color='orange')"
   ]
  },
  {
   "cell_type": "code",
   "execution_count": 127,
   "metadata": {},
   "outputs": [],
   "source": [
    "generated = generated.reshape(generated.shape[0], 1)\n",
    "generated2 = generated2.reshape(generated2.shape[0], 1)\n",
    "generated3 = generated3.reshape(generated3.shape[0], 1)\n",
    "generated4 = generated4.reshape(generated4.shape[0], 1)"
   ]
  },
  {
   "cell_type": "code",
   "execution_count": 128,
   "metadata": {},
   "outputs": [],
   "source": [
    "#np.random.shuffle(generated)\n",
    "trainingSet = np.hstack((generated, generated3))\n",
    "testSet = np.hstack((generated2, generated4))\n",
    "# print(np.shape(trainingSet))"
   ]
  },
  {
   "cell_type": "code",
   "execution_count": 129,
   "metadata": {},
   "outputs": [
    {
     "name": "stdout",
     "output_type": "stream",
     "text": [
      "(494, 5, 2)\n",
      "(494, 2)\n"
     ]
    }
   ],
   "source": [
    "look_back = 5\n",
    "# def create_dataset(dataset, look_back=1):\n",
    "#     dataX, dataY = [], []\n",
    "#     for i in range(look_back, len(dataset)):\n",
    "#         #a = dataset[i:(i+look_back)]\n",
    "#         dataX.append(dataset[i])\n",
    "#         dataY.append(dataset[i - look_back:i])\n",
    "#     return np.array(dataX), np.array(dataY)\n",
    "def create_dataset(dataset, look_back=1):\n",
    "    dataX, dataY = [], []\n",
    "    for i in range(len(dataset)-look_back-1):\n",
    "        a = dataset[i:(i+look_back), :]\n",
    "#         a = dataset[i:(i+look_back), 0]\n",
    "        dataX.append(a)\n",
    "        dataY.append(dataset[i + look_back, :])\n",
    "#         dataY.append(dataset[i + look_back, 0])\n",
    "\n",
    "    return np.array(dataX), np.array(dataY)\n",
    "trainX, trainY = create_dataset(trainingSet, look_back)#[:len(trainingSet)-1], trainingSet[1:]\n",
    "print(np.shape(trainX))\n",
    "print(np.shape(trainY))"
   ]
  },
  {
   "cell_type": "code",
   "execution_count": 130,
   "metadata": {},
   "outputs": [],
   "source": [
    "# trainX = trainX.reshape(trainX.shape[0], 1)\n",
    "# trainY = trainY.reshape(trainY.shape[0], 1)\n",
    "trainX = np.reshape(trainX, (trainX.shape[0], 2, trainX.shape[1]))\n"
   ]
  },
  {
   "cell_type": "code",
   "execution_count": 131,
   "metadata": {},
   "outputs": [
    {
     "data": {
      "text/plain": [
       "(494, 2, 5)"
      ]
     },
     "execution_count": 131,
     "metadata": {},
     "output_type": "execute_result"
    }
   ],
   "source": [
    "np.shape(trainX)"
   ]
  },
  {
   "cell_type": "code",
   "execution_count": 132,
   "metadata": {},
   "outputs": [
    {
     "name": "stdout",
     "output_type": "stream",
     "text": [
      "Epoch 1/25\n",
      " - 3s - loss: 2.8201\n",
      "Epoch 2/25\n",
      " - 2s - loss: 0.5452\n",
      "Epoch 3/25\n",
      " - 2s - loss: 0.1727\n",
      "Epoch 4/25\n",
      " - 2s - loss: 0.0576\n",
      "Epoch 5/25\n",
      " - 2s - loss: 0.0250\n",
      "Epoch 6/25\n",
      " - 2s - loss: 0.0134\n",
      "Epoch 7/25\n",
      " - 2s - loss: 0.0085\n",
      "Epoch 8/25\n",
      " - 2s - loss: 0.0061\n",
      "Epoch 9/25\n",
      " - 2s - loss: 0.0045\n",
      "Epoch 10/25\n",
      " - 2s - loss: 0.0033\n",
      "Epoch 11/25\n",
      " - 2s - loss: 0.0025\n",
      "Epoch 12/25\n",
      " - 2s - loss: 0.0018\n",
      "Epoch 13/25\n",
      " - 2s - loss: 0.0014\n",
      "Epoch 14/25\n",
      " - 2s - loss: 9.4954e-04\n",
      "Epoch 15/25\n",
      " - 2s - loss: 8.1548e-04\n",
      "Epoch 16/25\n",
      " - 2s - loss: 5.4592e-04\n",
      "Epoch 17/25\n",
      " - 2s - loss: 4.1463e-04\n",
      "Epoch 18/25\n",
      " - 2s - loss: 4.0448e-04\n",
      "Epoch 19/25\n",
      " - 2s - loss: 5.7608e-04\n",
      "Epoch 20/25\n",
      " - 2s - loss: 4.1667e-04\n",
      "Epoch 21/25\n",
      " - 2s - loss: 2.9800e-04\n",
      "Epoch 22/25\n",
      " - 2s - loss: 2.5344e-04\n",
      "Epoch 23/25\n",
      " - 2s - loss: 2.4367e-04\n",
      "Epoch 24/25\n",
      " - 2s - loss: 2.2375e-04\n",
      "Epoch 25/25\n",
      " - 2s - loss: 1.8482e-04\n"
     ]
    },
    {
     "data": {
      "text/plain": [
       "<keras.callbacks.History at 0x12db2fe10>"
      ]
     },
     "execution_count": 132,
     "metadata": {},
     "output_type": "execute_result"
    }
   ],
   "source": [
    "model = Sequential()\n",
    "model.add(LSTM(4, input_shape=(2, look_back)))\n",
    "model.add(Dense(2))\n",
    "model.compile(loss='mean_squared_error', optimizer='adam')\n",
    "model.fit(trainX, trainY, epochs=25, batch_size=1, verbose=2)"
   ]
  },
  {
   "cell_type": "code",
   "execution_count": 133,
   "metadata": {},
   "outputs": [],
   "source": [
    "testX, testY = create_dataset(testSet, look_back)#testSet[:len(testSet)-1], testSet[1:]\n",
    "#testX = testX.reshape(testX.shape[0], 1)\n",
    "#testY = testY.reshape(testY.shape[0], 1)\n",
    "testX = np.reshape(testX, (testX.shape[0], 2, testX.shape[1]))"
   ]
  },
  {
   "cell_type": "code",
   "execution_count": 138,
   "metadata": {},
   "outputs": [
    {
     "name": "stdout",
     "output_type": "stream",
     "text": [
      "(494, 2, 5)\n",
      "(494, 2)\n",
      "Train Score: 0.9836 RMSE\n",
      "Test Score: 0.9233 RMSE\n"
     ]
    }
   ],
   "source": [
    "# scaler = MinMaxScaler(feature_range=(0, 1))\n",
    "# print(np.array(generated).shape, np.array(gen2).shape)\n",
    "# dataset = np.hstack((np.array(generated), np.array(gen2)))\n",
    "# dataset = dataset.reshape(49, 1)\n",
    "# dataset = scaler.fit_transform(dataset)\n",
    "\n",
    "# make predictions\n",
    "print(np.shape(testX))\n",
    "\n",
    "trainPredict = model.predict(trainX)\n",
    "testPredict = model.predict(testX)\n",
    "\n",
    "# print(trainPredict)\n",
    "# print(trainY)\n",
    "# print(testPredict)\n",
    "# print(testY)\n",
    "\n",
    "# invert predictions\n",
    "# trainPredict = scaler.inverse_transform(trainPredict)\n",
    "# trainY = scaler.inverse_transform(trainY)\n",
    "# testPredict = scaler.inverse_transform(testPredict)\n",
    "# testY = scaler.inverse_transform(testY)\n",
    "# calculate root mean squared error\n",
    "print(np.shape(testPredict[:, :]))\n",
    "trainScore = math.sqrt(mean_squared_error(trainY[:], trainPredict[:, :]))\n",
    "print('Train Score: %.4f RMSE' % (1 - trainScore))\n",
    "testScore = math.sqrt(mean_squared_error(testY[:], testPredict[:, :]))\n",
    "print('Test Score: %.4f RMSE' % (1 - testScore))"
   ]
  },
  {
   "cell_type": "code",
   "execution_count": 135,
   "metadata": {},
   "outputs": [
    {
     "name": "stdout",
     "output_type": "stream",
     "text": [
      "Saved model to disk\n"
     ]
    }
   ],
   "source": [
    "# serialize model to JSON\n",
    "model_json = model.to_json()\n",
    "with open(\"predictor.json\", \"w\") as json_file:\n",
    "    json_file.write(model_json)\n",
    "# serialize weights to HDF5\n",
    "model.save_weights(\"predictor_weights.h5\")\n",
    "print(\"Saved model to disk\")"
   ]
  },
  {
   "cell_type": "code",
   "execution_count": null,
   "metadata": {},
   "outputs": [],
   "source": []
  }
 ],
 "metadata": {
  "kernelspec": {
   "display_name": "Python 3",
   "language": "python",
   "name": "python3"
  },
  "language_info": {
   "codemirror_mode": {
    "name": "ipython",
    "version": 3
   },
   "file_extension": ".py",
   "mimetype": "text/x-python",
   "name": "python",
   "nbconvert_exporter": "python",
   "pygments_lexer": "ipython3",
   "version": "3.6.4"
  }
 },
 "nbformat": 4,
 "nbformat_minor": 2
}
